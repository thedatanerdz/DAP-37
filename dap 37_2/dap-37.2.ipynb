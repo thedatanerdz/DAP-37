{
 "cells": [
  {
   "cell_type": "markdown",
   "id": "200132d2",
   "metadata": {
    "papermill": {
     "duration": 0.008095,
     "end_time": "2023-07-04T13:33:12.046967",
     "exception": false,
     "start_time": "2023-07-04T13:33:12.038872",
     "status": "completed"
    },
    "tags": []
   },
   "source": [
    "##  Handlining Duplicate Data :\n",
    "\n",
    "\n",
    "\n",
    "Duplicate observations most frequently arise during data collection, such as when we:\n",
    "\n",
    "  - Combine datasets from multiple places\n",
    "  - Scrape data ( Collect Data through web scraping)\n",
    "  - Receive data from clients/other departments\n",
    "\n",
    "if we're using a web scraper we may happen to scrape the same webpage more than once, or the same information from two different pages. Whatever the reason, duplication can lead us to make incorrect conclusions by leading us to believe that some observations are more common than they really are."
   ]
  },
  {
   "cell_type": "code",
   "execution_count": 1,
   "id": "da71b3f3",
   "metadata": {
    "execution": {
     "iopub.execute_input": "2023-07-04T13:33:12.064003Z",
     "iopub.status.busy": "2023-07-04T13:33:12.063206Z",
     "iopub.status.idle": "2023-07-04T13:33:12.074433Z",
     "shell.execute_reply": "2023-07-04T13:33:12.073313Z"
    },
    "papermill": {
     "duration": 0.023082,
     "end_time": "2023-07-04T13:33:12.077422",
     "exception": false,
     "start_time": "2023-07-04T13:33:12.054340",
     "status": "completed"
    },
    "tags": []
   },
   "outputs": [],
   "source": [
    "# import the required libraries\n",
    "import pandas as pd"
   ]
  },
  {
   "cell_type": "code",
   "execution_count": 2,
   "id": "9ddfb7aa",
   "metadata": {
    "execution": {
     "iopub.execute_input": "2023-07-04T13:33:12.094675Z",
     "iopub.status.busy": "2023-07-04T13:33:12.093903Z",
     "iopub.status.idle": "2023-07-04T13:33:12.132780Z",
     "shell.execute_reply": "2023-07-04T13:33:12.131640Z"
    },
    "papermill": {
     "duration": 0.050802,
     "end_time": "2023-07-04T13:33:12.135622",
     "exception": false,
     "start_time": "2023-07-04T13:33:12.084820",
     "status": "completed"
    },
    "tags": []
   },
   "outputs": [
    {
     "data": {
      "text/html": [
       "<div>\n",
       "<style scoped>\n",
       "    .dataframe tbody tr th:only-of-type {\n",
       "        vertical-align: middle;\n",
       "    }\n",
       "\n",
       "    .dataframe tbody tr th {\n",
       "        vertical-align: top;\n",
       "    }\n",
       "\n",
       "    .dataframe thead th {\n",
       "        text-align: right;\n",
       "    }\n",
       "</style>\n",
       "<table border=\"1\" class=\"dataframe\">\n",
       "  <thead>\n",
       "    <tr style=\"text-align: right;\">\n",
       "      <th></th>\n",
       "      <th>Name</th>\n",
       "      <th>Rank</th>\n",
       "      <th>Marks</th>\n",
       "    </tr>\n",
       "  </thead>\n",
       "  <tbody>\n",
       "    <tr>\n",
       "      <th>0</th>\n",
       "      <td>John</td>\n",
       "      <td>1</td>\n",
       "      <td>98</td>\n",
       "    </tr>\n",
       "    <tr>\n",
       "      <th>1</th>\n",
       "      <td>Rock</td>\n",
       "      <td>2</td>\n",
       "      <td>59</td>\n",
       "    </tr>\n",
       "    <tr>\n",
       "      <th>2</th>\n",
       "      <td>Neil</td>\n",
       "      <td>3</td>\n",
       "      <td>97</td>\n",
       "    </tr>\n",
       "    <tr>\n",
       "      <th>3</th>\n",
       "      <td>Tom</td>\n",
       "      <td>6</td>\n",
       "      <td>99</td>\n",
       "    </tr>\n",
       "    <tr>\n",
       "      <th>4</th>\n",
       "      <td>John</td>\n",
       "      <td>1</td>\n",
       "      <td>98</td>\n",
       "    </tr>\n",
       "    <tr>\n",
       "      <th>5</th>\n",
       "      <td>John</td>\n",
       "      <td>1</td>\n",
       "      <td>98</td>\n",
       "    </tr>\n",
       "  </tbody>\n",
       "</table>\n",
       "</div>"
      ],
      "text/plain": [
       "   Name  Rank  Marks\n",
       "0  John     1     98\n",
       "1  Rock     2     59\n",
       "2  Neil     3     97\n",
       "3   Tom     6     99\n",
       "4  John     1     98\n",
       "5  John     1     98"
      ]
     },
     "execution_count": 2,
     "metadata": {},
     "output_type": "execute_result"
    }
   ],
   "source": [
    "# creating a dataFrame with duplicate rows\n",
    "df = pd.DataFrame({\"Name\":[\"John\", \"Rock\", \"Neil\", \"Tom\",\"John\",\"John\"], \"Rank\":[1,2,3,6,1,1], \"Marks\":[98,59,97,99,98,98]})\n",
    "df"
   ]
  },
  {
   "cell_type": "code",
   "execution_count": 3,
   "id": "3e3bda96",
   "metadata": {
    "execution": {
     "iopub.execute_input": "2023-07-04T13:33:12.153253Z",
     "iopub.status.busy": "2023-07-04T13:33:12.152824Z",
     "iopub.status.idle": "2023-07-04T13:33:12.169750Z",
     "shell.execute_reply": "2023-07-04T13:33:12.168830Z"
    },
    "papermill": {
     "duration": 0.028667,
     "end_time": "2023-07-04T13:33:12.172235",
     "exception": false,
     "start_time": "2023-07-04T13:33:12.143568",
     "status": "completed"
    },
    "tags": []
   },
   "outputs": [
    {
     "data": {
      "text/plain": [
       "0     True\n",
       "1    False\n",
       "2    False\n",
       "3    False\n",
       "4     True\n",
       "5     True\n",
       "dtype: bool"
      ]
     },
     "execution_count": 3,
     "metadata": {},
     "output_type": "execute_result"
    }
   ],
   "source": [
    "df.duplicated(keep=False)"
   ]
  },
  {
   "cell_type": "code",
   "execution_count": 4,
   "id": "93d1db80",
   "metadata": {
    "execution": {
     "iopub.execute_input": "2023-07-04T13:33:12.192143Z",
     "iopub.status.busy": "2023-07-04T13:33:12.191391Z",
     "iopub.status.idle": "2023-07-04T13:33:12.198944Z",
     "shell.execute_reply": "2023-07-04T13:33:12.197850Z"
    },
    "papermill": {
     "duration": 0.020963,
     "end_time": "2023-07-04T13:33:12.201196",
     "exception": false,
     "start_time": "2023-07-04T13:33:12.180233",
     "status": "completed"
    },
    "tags": []
   },
   "outputs": [
    {
     "data": {
      "text/plain": [
       "3"
      ]
     },
     "execution_count": 4,
     "metadata": {},
     "output_type": "execute_result"
    }
   ],
   "source": [
    "df.duplicated(keep=False).sum()"
   ]
  },
  {
   "cell_type": "code",
   "execution_count": 5,
   "id": "1efeef15",
   "metadata": {
    "execution": {
     "iopub.execute_input": "2023-07-04T13:33:12.219718Z",
     "iopub.status.busy": "2023-07-04T13:33:12.218947Z",
     "iopub.status.idle": "2023-07-04T13:33:12.226526Z",
     "shell.execute_reply": "2023-07-04T13:33:12.225299Z"
    },
    "papermill": {
     "duration": 0.019548,
     "end_time": "2023-07-04T13:33:12.228919",
     "exception": false,
     "start_time": "2023-07-04T13:33:12.209371",
     "status": "completed"
    },
    "tags": []
   },
   "outputs": [
    {
     "data": {
      "text/plain": [
       "2"
      ]
     },
     "execution_count": 5,
     "metadata": {},
     "output_type": "execute_result"
    }
   ],
   "source": [
    "df.duplicated().sum()\n",
    "# keep = First"
   ]
  },
  {
   "cell_type": "code",
   "execution_count": 6,
   "id": "026f7b91",
   "metadata": {
    "execution": {
     "iopub.execute_input": "2023-07-04T13:33:12.247788Z",
     "iopub.status.busy": "2023-07-04T13:33:12.247282Z",
     "iopub.status.idle": "2023-07-04T13:33:12.262080Z",
     "shell.execute_reply": "2023-07-04T13:33:12.260919Z"
    },
    "papermill": {
     "duration": 0.027251,
     "end_time": "2023-07-04T13:33:12.264594",
     "exception": false,
     "start_time": "2023-07-04T13:33:12.237343",
     "status": "completed"
    },
    "tags": []
   },
   "outputs": [
    {
     "data": {
      "text/html": [
       "<div>\n",
       "<style scoped>\n",
       "    .dataframe tbody tr th:only-of-type {\n",
       "        vertical-align: middle;\n",
       "    }\n",
       "\n",
       "    .dataframe tbody tr th {\n",
       "        vertical-align: top;\n",
       "    }\n",
       "\n",
       "    .dataframe thead th {\n",
       "        text-align: right;\n",
       "    }\n",
       "</style>\n",
       "<table border=\"1\" class=\"dataframe\">\n",
       "  <thead>\n",
       "    <tr style=\"text-align: right;\">\n",
       "      <th></th>\n",
       "      <th>Name</th>\n",
       "      <th>Rank</th>\n",
       "      <th>Marks</th>\n",
       "    </tr>\n",
       "  </thead>\n",
       "  <tbody>\n",
       "    <tr>\n",
       "      <th>0</th>\n",
       "      <td>John</td>\n",
       "      <td>1</td>\n",
       "      <td>98</td>\n",
       "    </tr>\n",
       "    <tr>\n",
       "      <th>4</th>\n",
       "      <td>John</td>\n",
       "      <td>1</td>\n",
       "      <td>98</td>\n",
       "    </tr>\n",
       "    <tr>\n",
       "      <th>5</th>\n",
       "      <td>John</td>\n",
       "      <td>1</td>\n",
       "      <td>98</td>\n",
       "    </tr>\n",
       "  </tbody>\n",
       "</table>\n",
       "</div>"
      ],
      "text/plain": [
       "   Name  Rank  Marks\n",
       "0  John     1     98\n",
       "4  John     1     98\n",
       "5  John     1     98"
      ]
     },
     "execution_count": 6,
     "metadata": {},
     "output_type": "execute_result"
    }
   ],
   "source": [
    "# print the duplicate dataset\n",
    "df.loc[df.duplicated(keep=False)]"
   ]
  },
  {
   "cell_type": "code",
   "execution_count": 7,
   "id": "198e97e0",
   "metadata": {
    "execution": {
     "iopub.execute_input": "2023-07-04T13:33:12.284127Z",
     "iopub.status.busy": "2023-07-04T13:33:12.283487Z",
     "iopub.status.idle": "2023-07-04T13:33:12.295572Z",
     "shell.execute_reply": "2023-07-04T13:33:12.294480Z"
    },
    "papermill": {
     "duration": 0.02526,
     "end_time": "2023-07-04T13:33:12.298616",
     "exception": false,
     "start_time": "2023-07-04T13:33:12.273356",
     "status": "completed"
    },
    "tags": []
   },
   "outputs": [
    {
     "data": {
      "text/html": [
       "<div>\n",
       "<style scoped>\n",
       "    .dataframe tbody tr th:only-of-type {\n",
       "        vertical-align: middle;\n",
       "    }\n",
       "\n",
       "    .dataframe tbody tr th {\n",
       "        vertical-align: top;\n",
       "    }\n",
       "\n",
       "    .dataframe thead th {\n",
       "        text-align: right;\n",
       "    }\n",
       "</style>\n",
       "<table border=\"1\" class=\"dataframe\">\n",
       "  <thead>\n",
       "    <tr style=\"text-align: right;\">\n",
       "      <th></th>\n",
       "      <th>Name</th>\n",
       "      <th>Rank</th>\n",
       "      <th>Marks</th>\n",
       "    </tr>\n",
       "  </thead>\n",
       "  <tbody>\n",
       "    <tr>\n",
       "      <th>0</th>\n",
       "      <td>John</td>\n",
       "      <td>1</td>\n",
       "      <td>98</td>\n",
       "    </tr>\n",
       "    <tr>\n",
       "      <th>1</th>\n",
       "      <td>Rock</td>\n",
       "      <td>2</td>\n",
       "      <td>59</td>\n",
       "    </tr>\n",
       "    <tr>\n",
       "      <th>2</th>\n",
       "      <td>Neil</td>\n",
       "      <td>3</td>\n",
       "      <td>97</td>\n",
       "    </tr>\n",
       "    <tr>\n",
       "      <th>3</th>\n",
       "      <td>Tom</td>\n",
       "      <td>6</td>\n",
       "      <td>99</td>\n",
       "    </tr>\n",
       "  </tbody>\n",
       "</table>\n",
       "</div>"
      ],
      "text/plain": [
       "   Name  Rank  Marks\n",
       "0  John     1     98\n",
       "1  Rock     2     59\n",
       "2  Neil     3     97\n",
       "3   Tom     6     99"
      ]
     },
     "execution_count": 7,
     "metadata": {},
     "output_type": "execute_result"
    }
   ],
   "source": [
    "# keep : {'first', 'last', False}, default 'first'\n",
    "# Drop duplicates except for the first occurrence.\n",
    "df1 = df.drop_duplicates(keep='first')\n",
    "df1"
   ]
  },
  {
   "cell_type": "code",
   "execution_count": 8,
   "id": "db619e54",
   "metadata": {
    "execution": {
     "iopub.execute_input": "2023-07-04T13:33:12.319122Z",
     "iopub.status.busy": "2023-07-04T13:33:12.318731Z",
     "iopub.status.idle": "2023-07-04T13:33:12.329294Z",
     "shell.execute_reply": "2023-07-04T13:33:12.328491Z"
    },
    "papermill": {
     "duration": 0.023352,
     "end_time": "2023-07-04T13:33:12.331463",
     "exception": false,
     "start_time": "2023-07-04T13:33:12.308111",
     "status": "completed"
    },
    "tags": []
   },
   "outputs": [
    {
     "data": {
      "text/html": [
       "<div>\n",
       "<style scoped>\n",
       "    .dataframe tbody tr th:only-of-type {\n",
       "        vertical-align: middle;\n",
       "    }\n",
       "\n",
       "    .dataframe tbody tr th {\n",
       "        vertical-align: top;\n",
       "    }\n",
       "\n",
       "    .dataframe thead th {\n",
       "        text-align: right;\n",
       "    }\n",
       "</style>\n",
       "<table border=\"1\" class=\"dataframe\">\n",
       "  <thead>\n",
       "    <tr style=\"text-align: right;\">\n",
       "      <th></th>\n",
       "      <th>Name</th>\n",
       "      <th>Rank</th>\n",
       "      <th>Marks</th>\n",
       "    </tr>\n",
       "  </thead>\n",
       "  <tbody>\n",
       "    <tr>\n",
       "      <th>1</th>\n",
       "      <td>Rock</td>\n",
       "      <td>2</td>\n",
       "      <td>59</td>\n",
       "    </tr>\n",
       "    <tr>\n",
       "      <th>2</th>\n",
       "      <td>Neil</td>\n",
       "      <td>3</td>\n",
       "      <td>97</td>\n",
       "    </tr>\n",
       "    <tr>\n",
       "      <th>3</th>\n",
       "      <td>Tom</td>\n",
       "      <td>6</td>\n",
       "      <td>99</td>\n",
       "    </tr>\n",
       "  </tbody>\n",
       "</table>\n",
       "</div>"
      ],
      "text/plain": [
       "   Name  Rank  Marks\n",
       "1  Rock     2     59\n",
       "2  Neil     3     97\n",
       "3   Tom     6     99"
      ]
     },
     "execution_count": 8,
     "metadata": {},
     "output_type": "execute_result"
    }
   ],
   "source": [
    "# removes all duplicate rows\n",
    "df2 = df.drop_duplicates(keep=False) # False --Drop all duplicates.\n",
    "df2"
   ]
  },
  {
   "cell_type": "code",
   "execution_count": 9,
   "id": "e651b4e6",
   "metadata": {
    "execution": {
     "iopub.execute_input": "2023-07-04T13:33:12.351918Z",
     "iopub.status.busy": "2023-07-04T13:33:12.351520Z",
     "iopub.status.idle": "2023-07-04T13:33:12.363654Z",
     "shell.execute_reply": "2023-07-04T13:33:12.362519Z"
    },
    "papermill": {
     "duration": 0.025669,
     "end_time": "2023-07-04T13:33:12.366290",
     "exception": false,
     "start_time": "2023-07-04T13:33:12.340621",
     "status": "completed"
    },
    "tags": []
   },
   "outputs": [
    {
     "data": {
      "text/html": [
       "<div>\n",
       "<style scoped>\n",
       "    .dataframe tbody tr th:only-of-type {\n",
       "        vertical-align: middle;\n",
       "    }\n",
       "\n",
       "    .dataframe tbody tr th {\n",
       "        vertical-align: top;\n",
       "    }\n",
       "\n",
       "    .dataframe thead th {\n",
       "        text-align: right;\n",
       "    }\n",
       "</style>\n",
       "<table border=\"1\" class=\"dataframe\">\n",
       "  <thead>\n",
       "    <tr style=\"text-align: right;\">\n",
       "      <th></th>\n",
       "      <th>Name</th>\n",
       "      <th>Rank</th>\n",
       "      <th>Marks</th>\n",
       "    </tr>\n",
       "  </thead>\n",
       "  <tbody>\n",
       "    <tr>\n",
       "      <th>1</th>\n",
       "      <td>Rock</td>\n",
       "      <td>2</td>\n",
       "      <td>59</td>\n",
       "    </tr>\n",
       "    <tr>\n",
       "      <th>2</th>\n",
       "      <td>Neil</td>\n",
       "      <td>3</td>\n",
       "      <td>97</td>\n",
       "    </tr>\n",
       "    <tr>\n",
       "      <th>3</th>\n",
       "      <td>Tom</td>\n",
       "      <td>6</td>\n",
       "      <td>99</td>\n",
       "    </tr>\n",
       "    <tr>\n",
       "      <th>5</th>\n",
       "      <td>John</td>\n",
       "      <td>1</td>\n",
       "      <td>98</td>\n",
       "    </tr>\n",
       "  </tbody>\n",
       "</table>\n",
       "</div>"
      ],
      "text/plain": [
       "   Name  Rank  Marks\n",
       "1  Rock     2     59\n",
       "2  Neil     3     97\n",
       "3   Tom     6     99\n",
       "5  John     1     98"
      ]
     },
     "execution_count": 9,
     "metadata": {},
     "output_type": "execute_result"
    }
   ],
   "source": [
    "# Drop duplicates except for the last occurrence.\n",
    "df3 = df.drop_duplicates(keep=\"last\")\n",
    "df3"
   ]
  },
  {
   "cell_type": "code",
   "execution_count": 10,
   "id": "37f04d80",
   "metadata": {
    "execution": {
     "iopub.execute_input": "2023-07-04T13:33:12.387564Z",
     "iopub.status.busy": "2023-07-04T13:33:12.387007Z",
     "iopub.status.idle": "2023-07-04T13:33:12.400502Z",
     "shell.execute_reply": "2023-07-04T13:33:12.399262Z"
    },
    "papermill": {
     "duration": 0.027251,
     "end_time": "2023-07-04T13:33:12.403162",
     "exception": false,
     "start_time": "2023-07-04T13:33:12.375911",
     "status": "completed"
    },
    "tags": []
   },
   "outputs": [
    {
     "data": {
      "text/html": [
       "<div>\n",
       "<style scoped>\n",
       "    .dataframe tbody tr th:only-of-type {\n",
       "        vertical-align: middle;\n",
       "    }\n",
       "\n",
       "    .dataframe tbody tr th {\n",
       "        vertical-align: top;\n",
       "    }\n",
       "\n",
       "    .dataframe thead th {\n",
       "        text-align: right;\n",
       "    }\n",
       "</style>\n",
       "<table border=\"1\" class=\"dataframe\">\n",
       "  <thead>\n",
       "    <tr style=\"text-align: right;\">\n",
       "      <th></th>\n",
       "      <th>Name</th>\n",
       "      <th>Rank</th>\n",
       "      <th>Marks</th>\n",
       "    </tr>\n",
       "  </thead>\n",
       "  <tbody>\n",
       "    <tr>\n",
       "      <th>0</th>\n",
       "      <td>John</td>\n",
       "      <td>1</td>\n",
       "      <td>98</td>\n",
       "    </tr>\n",
       "    <tr>\n",
       "      <th>1</th>\n",
       "      <td>Rock</td>\n",
       "      <td>2</td>\n",
       "      <td>59</td>\n",
       "    </tr>\n",
       "    <tr>\n",
       "      <th>2</th>\n",
       "      <td>Neil</td>\n",
       "      <td>3</td>\n",
       "      <td>97</td>\n",
       "    </tr>\n",
       "    <tr>\n",
       "      <th>3</th>\n",
       "      <td>Tom</td>\n",
       "      <td>6</td>\n",
       "      <td>99</td>\n",
       "    </tr>\n",
       "  </tbody>\n",
       "</table>\n",
       "</div>"
      ],
      "text/plain": [
       "   Name  Rank  Marks\n",
       "0  John     1     98\n",
       "1  Rock     2     59\n",
       "2  Neil     3     97\n",
       "3   Tom     6     99"
      ]
     },
     "execution_count": 10,
     "metadata": {},
     "output_type": "execute_result"
    }
   ],
   "source": [
    "df.drop_duplicates(keep=\"first\")\n",
    "# inplace = False "
   ]
  },
  {
   "cell_type": "code",
   "execution_count": 11,
   "id": "6fd32dd1",
   "metadata": {
    "execution": {
     "iopub.execute_input": "2023-07-04T13:33:12.425753Z",
     "iopub.status.busy": "2023-07-04T13:33:12.425367Z",
     "iopub.status.idle": "2023-07-04T13:33:12.436549Z",
     "shell.execute_reply": "2023-07-04T13:33:12.435324Z"
    },
    "papermill": {
     "duration": 0.025635,
     "end_time": "2023-07-04T13:33:12.438924",
     "exception": false,
     "start_time": "2023-07-04T13:33:12.413289",
     "status": "completed"
    },
    "tags": []
   },
   "outputs": [
    {
     "data": {
      "text/html": [
       "<div>\n",
       "<style scoped>\n",
       "    .dataframe tbody tr th:only-of-type {\n",
       "        vertical-align: middle;\n",
       "    }\n",
       "\n",
       "    .dataframe tbody tr th {\n",
       "        vertical-align: top;\n",
       "    }\n",
       "\n",
       "    .dataframe thead th {\n",
       "        text-align: right;\n",
       "    }\n",
       "</style>\n",
       "<table border=\"1\" class=\"dataframe\">\n",
       "  <thead>\n",
       "    <tr style=\"text-align: right;\">\n",
       "      <th></th>\n",
       "      <th>Name</th>\n",
       "      <th>Rank</th>\n",
       "      <th>Marks</th>\n",
       "    </tr>\n",
       "  </thead>\n",
       "  <tbody>\n",
       "    <tr>\n",
       "      <th>0</th>\n",
       "      <td>John</td>\n",
       "      <td>1</td>\n",
       "      <td>98</td>\n",
       "    </tr>\n",
       "    <tr>\n",
       "      <th>1</th>\n",
       "      <td>Rock</td>\n",
       "      <td>2</td>\n",
       "      <td>59</td>\n",
       "    </tr>\n",
       "    <tr>\n",
       "      <th>2</th>\n",
       "      <td>Neil</td>\n",
       "      <td>3</td>\n",
       "      <td>97</td>\n",
       "    </tr>\n",
       "    <tr>\n",
       "      <th>3</th>\n",
       "      <td>Tom</td>\n",
       "      <td>6</td>\n",
       "      <td>99</td>\n",
       "    </tr>\n",
       "    <tr>\n",
       "      <th>4</th>\n",
       "      <td>John</td>\n",
       "      <td>1</td>\n",
       "      <td>98</td>\n",
       "    </tr>\n",
       "    <tr>\n",
       "      <th>5</th>\n",
       "      <td>John</td>\n",
       "      <td>1</td>\n",
       "      <td>98</td>\n",
       "    </tr>\n",
       "  </tbody>\n",
       "</table>\n",
       "</div>"
      ],
      "text/plain": [
       "   Name  Rank  Marks\n",
       "0  John     1     98\n",
       "1  Rock     2     59\n",
       "2  Neil     3     97\n",
       "3   Tom     6     99\n",
       "4  John     1     98\n",
       "5  John     1     98"
      ]
     },
     "execution_count": 11,
     "metadata": {},
     "output_type": "execute_result"
    }
   ],
   "source": [
    "df"
   ]
  },
  {
   "cell_type": "code",
   "execution_count": 12,
   "id": "933407b6",
   "metadata": {
    "execution": {
     "iopub.execute_input": "2023-07-04T13:33:12.461892Z",
     "iopub.status.busy": "2023-07-04T13:33:12.461507Z",
     "iopub.status.idle": "2023-07-04T13:33:12.473955Z",
     "shell.execute_reply": "2023-07-04T13:33:12.472755Z"
    },
    "papermill": {
     "duration": 0.027353,
     "end_time": "2023-07-04T13:33:12.476443",
     "exception": false,
     "start_time": "2023-07-04T13:33:12.449090",
     "status": "completed"
    },
    "tags": []
   },
   "outputs": [
    {
     "data": {
      "text/html": [
       "<div>\n",
       "<style scoped>\n",
       "    .dataframe tbody tr th:only-of-type {\n",
       "        vertical-align: middle;\n",
       "    }\n",
       "\n",
       "    .dataframe tbody tr th {\n",
       "        vertical-align: top;\n",
       "    }\n",
       "\n",
       "    .dataframe thead th {\n",
       "        text-align: right;\n",
       "    }\n",
       "</style>\n",
       "<table border=\"1\" class=\"dataframe\">\n",
       "  <thead>\n",
       "    <tr style=\"text-align: right;\">\n",
       "      <th></th>\n",
       "      <th>Name</th>\n",
       "      <th>Rank</th>\n",
       "      <th>Marks</th>\n",
       "    </tr>\n",
       "  </thead>\n",
       "  <tbody>\n",
       "    <tr>\n",
       "      <th>0</th>\n",
       "      <td>John</td>\n",
       "      <td>1</td>\n",
       "      <td>98</td>\n",
       "    </tr>\n",
       "    <tr>\n",
       "      <th>1</th>\n",
       "      <td>Rock</td>\n",
       "      <td>2</td>\n",
       "      <td>59</td>\n",
       "    </tr>\n",
       "    <tr>\n",
       "      <th>2</th>\n",
       "      <td>Neil</td>\n",
       "      <td>3</td>\n",
       "      <td>97</td>\n",
       "    </tr>\n",
       "    <tr>\n",
       "      <th>3</th>\n",
       "      <td>Tom</td>\n",
       "      <td>6</td>\n",
       "      <td>99</td>\n",
       "    </tr>\n",
       "  </tbody>\n",
       "</table>\n",
       "</div>"
      ],
      "text/plain": [
       "   Name  Rank  Marks\n",
       "0  John     1     98\n",
       "1  Rock     2     59\n",
       "2  Neil     3     97\n",
       "3   Tom     6     99"
      ]
     },
     "execution_count": 12,
     "metadata": {},
     "output_type": "execute_result"
    }
   ],
   "source": [
    "# changing the dataset by settig inplace  to true\n",
    "df.drop_duplicates(keep='first', inplace=True)\n",
    "df"
   ]
  },
  {
   "cell_type": "code",
   "execution_count": 13,
   "id": "1b1ce6b7",
   "metadata": {
    "execution": {
     "iopub.execute_input": "2023-07-04T13:33:12.498793Z",
     "iopub.status.busy": "2023-07-04T13:33:12.498436Z",
     "iopub.status.idle": "2023-07-04T13:33:12.969403Z",
     "shell.execute_reply": "2023-07-04T13:33:12.968150Z"
    },
    "papermill": {
     "duration": 0.485491,
     "end_time": "2023-07-04T13:33:12.972189",
     "exception": false,
     "start_time": "2023-07-04T13:33:12.486698",
     "status": "completed"
    },
    "tags": []
   },
   "outputs": [],
   "source": [
    "# Import the dataset\n",
    "df_uci_adult = pd.read_csv(\"https://raw.githubusercontent.com/atulpatelDS/Data_Files/master/Feature_Engineering/Duplicate_data/adult.csv\")"
   ]
  },
  {
   "cell_type": "code",
   "execution_count": 14,
   "id": "f6d4a94a",
   "metadata": {
    "execution": {
     "iopub.execute_input": "2023-07-04T13:33:12.995461Z",
     "iopub.status.busy": "2023-07-04T13:33:12.995002Z",
     "iopub.status.idle": "2023-07-04T13:33:13.022232Z",
     "shell.execute_reply": "2023-07-04T13:33:13.021091Z"
    },
    "papermill": {
     "duration": 0.041534,
     "end_time": "2023-07-04T13:33:13.024749",
     "exception": false,
     "start_time": "2023-07-04T13:33:12.983215",
     "status": "completed"
    },
    "tags": []
   },
   "outputs": [
    {
     "data": {
      "text/html": [
       "<div>\n",
       "<style scoped>\n",
       "    .dataframe tbody tr th:only-of-type {\n",
       "        vertical-align: middle;\n",
       "    }\n",
       "\n",
       "    .dataframe tbody tr th {\n",
       "        vertical-align: top;\n",
       "    }\n",
       "\n",
       "    .dataframe thead th {\n",
       "        text-align: right;\n",
       "    }\n",
       "</style>\n",
       "<table border=\"1\" class=\"dataframe\">\n",
       "  <thead>\n",
       "    <tr style=\"text-align: right;\">\n",
       "      <th></th>\n",
       "      <th>age</th>\n",
       "      <th>workclass</th>\n",
       "      <th>fnlwgt</th>\n",
       "      <th>education</th>\n",
       "      <th>educational-num</th>\n",
       "      <th>marital-status</th>\n",
       "      <th>occupation</th>\n",
       "      <th>relationship</th>\n",
       "      <th>race</th>\n",
       "      <th>gender</th>\n",
       "      <th>capital-gain</th>\n",
       "      <th>capital-loss</th>\n",
       "      <th>hours-per-week</th>\n",
       "      <th>native-country</th>\n",
       "      <th>income</th>\n",
       "    </tr>\n",
       "  </thead>\n",
       "  <tbody>\n",
       "    <tr>\n",
       "      <th>0</th>\n",
       "      <td>25</td>\n",
       "      <td>Private</td>\n",
       "      <td>226802</td>\n",
       "      <td>11th</td>\n",
       "      <td>7</td>\n",
       "      <td>Never-married</td>\n",
       "      <td>Machine-op-inspct</td>\n",
       "      <td>Own-child</td>\n",
       "      <td>Black</td>\n",
       "      <td>Male</td>\n",
       "      <td>0</td>\n",
       "      <td>0</td>\n",
       "      <td>40</td>\n",
       "      <td>United-States</td>\n",
       "      <td>&lt;=50K</td>\n",
       "    </tr>\n",
       "    <tr>\n",
       "      <th>1</th>\n",
       "      <td>38</td>\n",
       "      <td>Private</td>\n",
       "      <td>89814</td>\n",
       "      <td>HS-grad</td>\n",
       "      <td>9</td>\n",
       "      <td>Married-civ-spouse</td>\n",
       "      <td>Farming-fishing</td>\n",
       "      <td>Husband</td>\n",
       "      <td>White</td>\n",
       "      <td>Male</td>\n",
       "      <td>0</td>\n",
       "      <td>0</td>\n",
       "      <td>50</td>\n",
       "      <td>United-States</td>\n",
       "      <td>&lt;=50K</td>\n",
       "    </tr>\n",
       "    <tr>\n",
       "      <th>2</th>\n",
       "      <td>28</td>\n",
       "      <td>Local-gov</td>\n",
       "      <td>336951</td>\n",
       "      <td>Assoc-acdm</td>\n",
       "      <td>12</td>\n",
       "      <td>Married-civ-spouse</td>\n",
       "      <td>Protective-serv</td>\n",
       "      <td>Husband</td>\n",
       "      <td>White</td>\n",
       "      <td>Male</td>\n",
       "      <td>0</td>\n",
       "      <td>0</td>\n",
       "      <td>40</td>\n",
       "      <td>United-States</td>\n",
       "      <td>&gt;50K</td>\n",
       "    </tr>\n",
       "    <tr>\n",
       "      <th>3</th>\n",
       "      <td>24</td>\n",
       "      <td>Private</td>\n",
       "      <td>369667</td>\n",
       "      <td>Some-college</td>\n",
       "      <td>10</td>\n",
       "      <td>Never-married</td>\n",
       "      <td>Other-service</td>\n",
       "      <td>Unmarried</td>\n",
       "      <td>White</td>\n",
       "      <td>Female</td>\n",
       "      <td>0</td>\n",
       "      <td>0</td>\n",
       "      <td>40</td>\n",
       "      <td>United-States</td>\n",
       "      <td>&lt;=50K</td>\n",
       "    </tr>\n",
       "    <tr>\n",
       "      <th>4</th>\n",
       "      <td>44</td>\n",
       "      <td>Private</td>\n",
       "      <td>160323</td>\n",
       "      <td>Some-college</td>\n",
       "      <td>10</td>\n",
       "      <td>Married-civ-spouse</td>\n",
       "      <td>Machine-op-inspct</td>\n",
       "      <td>Husband</td>\n",
       "      <td>Black</td>\n",
       "      <td>Male</td>\n",
       "      <td>7688</td>\n",
       "      <td>0</td>\n",
       "      <td>40</td>\n",
       "      <td>United-States</td>\n",
       "      <td>&gt;50K</td>\n",
       "    </tr>\n",
       "    <tr>\n",
       "      <th>...</th>\n",
       "      <td>...</td>\n",
       "      <td>...</td>\n",
       "      <td>...</td>\n",
       "      <td>...</td>\n",
       "      <td>...</td>\n",
       "      <td>...</td>\n",
       "      <td>...</td>\n",
       "      <td>...</td>\n",
       "      <td>...</td>\n",
       "      <td>...</td>\n",
       "      <td>...</td>\n",
       "      <td>...</td>\n",
       "      <td>...</td>\n",
       "      <td>...</td>\n",
       "      <td>...</td>\n",
       "    </tr>\n",
       "    <tr>\n",
       "      <th>3241</th>\n",
       "      <td>18</td>\n",
       "      <td>Private</td>\n",
       "      <td>161245</td>\n",
       "      <td>11th</td>\n",
       "      <td>7</td>\n",
       "      <td>Never-married</td>\n",
       "      <td>Other-service</td>\n",
       "      <td>Own-child</td>\n",
       "      <td>White</td>\n",
       "      <td>Male</td>\n",
       "      <td>0</td>\n",
       "      <td>0</td>\n",
       "      <td>8</td>\n",
       "      <td>United-States</td>\n",
       "      <td>&lt;=50K</td>\n",
       "    </tr>\n",
       "    <tr>\n",
       "      <th>3242</th>\n",
       "      <td>32</td>\n",
       "      <td>Private</td>\n",
       "      <td>262024</td>\n",
       "      <td>HS-grad</td>\n",
       "      <td>9</td>\n",
       "      <td>Never-married</td>\n",
       "      <td>Other-service</td>\n",
       "      <td>Own-child</td>\n",
       "      <td>Black</td>\n",
       "      <td>Male</td>\n",
       "      <td>0</td>\n",
       "      <td>0</td>\n",
       "      <td>38</td>\n",
       "      <td>United-States</td>\n",
       "      <td>&lt;=50K</td>\n",
       "    </tr>\n",
       "    <tr>\n",
       "      <th>3243</th>\n",
       "      <td>21</td>\n",
       "      <td>Private</td>\n",
       "      <td>287681</td>\n",
       "      <td>HS-grad</td>\n",
       "      <td>9</td>\n",
       "      <td>Never-married</td>\n",
       "      <td>Machine-op-inspct</td>\n",
       "      <td>Own-child</td>\n",
       "      <td>White</td>\n",
       "      <td>Male</td>\n",
       "      <td>0</td>\n",
       "      <td>0</td>\n",
       "      <td>40</td>\n",
       "      <td>Mexico</td>\n",
       "      <td>&lt;=50K</td>\n",
       "    </tr>\n",
       "    <tr>\n",
       "      <th>3244</th>\n",
       "      <td>27</td>\n",
       "      <td>Private</td>\n",
       "      <td>303601</td>\n",
       "      <td>12th</td>\n",
       "      <td>8</td>\n",
       "      <td>Married-civ-spouse</td>\n",
       "      <td>Farming-fishing</td>\n",
       "      <td>Husband</td>\n",
       "      <td>White</td>\n",
       "      <td>Male</td>\n",
       "      <td>0</td>\n",
       "      <td>0</td>\n",
       "      <td>40</td>\n",
       "      <td>United-States</td>\n",
       "      <td>&lt;=50K</td>\n",
       "    </tr>\n",
       "    <tr>\n",
       "      <th>3245</th>\n",
       "      <td>58</td>\n",
       "      <td>?</td>\n",
       "      <td>365410</td>\n",
       "      <td>Some-college</td>\n",
       "      <td>10</td>\n",
       "      <td>Separated</td>\n",
       "      <td>?</td>\n",
       "      <td>Other-relative</td>\n",
       "      <td>White</td>\n",
       "      <td>Female</td>\n",
       "      <td>0</td>\n",
       "      <td>0</td>\n",
       "      <td>99</td>\n",
       "      <td>United-States</td>\n",
       "      <td>&lt;=50K</td>\n",
       "    </tr>\n",
       "  </tbody>\n",
       "</table>\n",
       "<p>3246 rows × 15 columns</p>\n",
       "</div>"
      ],
      "text/plain": [
       "      age  workclass  fnlwgt     education  educational-num  \\\n",
       "0      25    Private  226802          11th                7   \n",
       "1      38    Private   89814       HS-grad                9   \n",
       "2      28  Local-gov  336951    Assoc-acdm               12   \n",
       "3      24    Private  369667  Some-college               10   \n",
       "4      44    Private  160323  Some-college               10   \n",
       "...   ...        ...     ...           ...              ...   \n",
       "3241   18    Private  161245          11th                7   \n",
       "3242   32    Private  262024       HS-grad                9   \n",
       "3243   21    Private  287681       HS-grad                9   \n",
       "3244   27    Private  303601          12th                8   \n",
       "3245   58          ?  365410  Some-college               10   \n",
       "\n",
       "          marital-status         occupation    relationship   race  gender  \\\n",
       "0          Never-married  Machine-op-inspct       Own-child  Black    Male   \n",
       "1     Married-civ-spouse    Farming-fishing         Husband  White    Male   \n",
       "2     Married-civ-spouse    Protective-serv         Husband  White    Male   \n",
       "3          Never-married      Other-service       Unmarried  White  Female   \n",
       "4     Married-civ-spouse  Machine-op-inspct         Husband  Black    Male   \n",
       "...                  ...                ...             ...    ...     ...   \n",
       "3241       Never-married      Other-service       Own-child  White    Male   \n",
       "3242       Never-married      Other-service       Own-child  Black    Male   \n",
       "3243       Never-married  Machine-op-inspct       Own-child  White    Male   \n",
       "3244  Married-civ-spouse    Farming-fishing         Husband  White    Male   \n",
       "3245           Separated                  ?  Other-relative  White  Female   \n",
       "\n",
       "      capital-gain  capital-loss  hours-per-week native-country income  \n",
       "0                0             0              40  United-States  <=50K  \n",
       "1                0             0              50  United-States  <=50K  \n",
       "2                0             0              40  United-States   >50K  \n",
       "3                0             0              40  United-States  <=50K  \n",
       "4             7688             0              40  United-States   >50K  \n",
       "...            ...           ...             ...            ...    ...  \n",
       "3241             0             0               8  United-States  <=50K  \n",
       "3242             0             0              38  United-States  <=50K  \n",
       "3243             0             0              40         Mexico  <=50K  \n",
       "3244             0             0              40  United-States  <=50K  \n",
       "3245             0             0              99  United-States  <=50K  \n",
       "\n",
       "[3246 rows x 15 columns]"
      ]
     },
     "execution_count": 14,
     "metadata": {},
     "output_type": "execute_result"
    }
   ],
   "source": [
    "df_uci_adult"
   ]
  },
  {
   "cell_type": "markdown",
   "id": "f12abcaa",
   "metadata": {
    "papermill": {
     "duration": 0.010831,
     "end_time": "2023-07-04T13:33:13.046739",
     "exception": false,
     "start_time": "2023-07-04T13:33:13.035908",
     "status": "completed"
    },
    "tags": []
   },
   "source": [
    "### Check Duplicate Value in the dataset"
   ]
  },
  {
   "cell_type": "markdown",
   "id": "f7d4df6a",
   "metadata": {
    "papermill": {
     "duration": 0.011053,
     "end_time": "2023-07-04T13:33:13.068659",
     "exception": false,
     "start_time": "2023-07-04T13:33:13.057606",
     "status": "completed"
    },
    "tags": []
   },
   "source": [
    "You have a dataset and have to check there is duplicates or not. The Python pandas library has a method for it, that is duplicated(). It checks for the duplicates rows and returns True and False.The code is the following\n"
   ]
  },
  {
   "cell_type": "code",
   "execution_count": 15,
   "id": "3f6a6357",
   "metadata": {
    "execution": {
     "iopub.execute_input": "2023-07-04T13:33:13.093387Z",
     "iopub.status.busy": "2023-07-04T13:33:13.092957Z",
     "iopub.status.idle": "2023-07-04T13:33:13.109224Z",
     "shell.execute_reply": "2023-07-04T13:33:13.108409Z"
    },
    "papermill": {
     "duration": 0.032015,
     "end_time": "2023-07-04T13:33:13.111808",
     "exception": false,
     "start_time": "2023-07-04T13:33:13.079793",
     "status": "completed"
    },
    "tags": []
   },
   "outputs": [
    {
     "data": {
      "text/plain": [
       "0       False\n",
       "1       False\n",
       "2       False\n",
       "3       False\n",
       "4       False\n",
       "        ...  \n",
       "3241    False\n",
       "3242    False\n",
       "3243    False\n",
       "3244    False\n",
       "3245    False\n",
       "Length: 3246, dtype: bool"
      ]
     },
     "execution_count": 15,
     "metadata": {},
     "output_type": "execute_result"
    }
   ],
   "source": [
    "df_uci_adult.duplicated()"
   ]
  },
  {
   "cell_type": "markdown",
   "id": "9593ad21",
   "metadata": {
    "papermill": {
     "duration": 0.011282,
     "end_time": "2023-07-04T13:33:13.134562",
     "exception": false,
     "start_time": "2023-07-04T13:33:13.123280",
     "status": "completed"
    },
    "tags": []
   },
   "source": [
    "If you use the method sum() along with it, then it will return the total number of the duplicates in the dataset."
   ]
  },
  {
   "cell_type": "code",
   "execution_count": 16,
   "id": "ba833c92",
   "metadata": {
    "execution": {
     "iopub.execute_input": "2023-07-04T13:33:13.159350Z",
     "iopub.status.busy": "2023-07-04T13:33:13.158656Z",
     "iopub.status.idle": "2023-07-04T13:33:13.171395Z",
     "shell.execute_reply": "2023-07-04T13:33:13.170249Z"
    },
    "papermill": {
     "duration": 0.028179,
     "end_time": "2023-07-04T13:33:13.174396",
     "exception": false,
     "start_time": "2023-07-04T13:33:13.146217",
     "status": "completed"
    },
    "tags": []
   },
   "outputs": [
    {
     "data": {
      "text/plain": [
       "9"
      ]
     },
     "execution_count": 16,
     "metadata": {},
     "output_type": "execute_result"
    }
   ],
   "source": [
    "df_uci_adult.duplicated().sum()"
   ]
  },
  {
   "cell_type": "code",
   "execution_count": 17,
   "id": "58b6af7f",
   "metadata": {
    "execution": {
     "iopub.execute_input": "2023-07-04T13:33:13.200225Z",
     "iopub.status.busy": "2023-07-04T13:33:13.199778Z",
     "iopub.status.idle": "2023-07-04T13:33:13.206661Z",
     "shell.execute_reply": "2023-07-04T13:33:13.205726Z"
    },
    "papermill": {
     "duration": 0.022496,
     "end_time": "2023-07-04T13:33:13.208858",
     "exception": false,
     "start_time": "2023-07-04T13:33:13.186362",
     "status": "completed"
    },
    "tags": []
   },
   "outputs": [
    {
     "data": {
      "text/plain": [
       "(3246, 15)"
      ]
     },
     "execution_count": 17,
     "metadata": {},
     "output_type": "execute_result"
    }
   ],
   "source": [
    "df_uci_adult.shape"
   ]
  },
  {
   "cell_type": "code",
   "execution_count": 18,
   "id": "10c80d42",
   "metadata": {
    "execution": {
     "iopub.execute_input": "2023-07-04T13:33:13.234133Z",
     "iopub.status.busy": "2023-07-04T13:33:13.233700Z",
     "iopub.status.idle": "2023-07-04T13:33:13.261016Z",
     "shell.execute_reply": "2023-07-04T13:33:13.259960Z"
    },
    "papermill": {
     "duration": 0.042932,
     "end_time": "2023-07-04T13:33:13.263404",
     "exception": false,
     "start_time": "2023-07-04T13:33:13.220472",
     "status": "completed"
    },
    "scrolled": true,
    "tags": []
   },
   "outputs": [
    {
     "data": {
      "text/html": [
       "<div>\n",
       "<style scoped>\n",
       "    .dataframe tbody tr th:only-of-type {\n",
       "        vertical-align: middle;\n",
       "    }\n",
       "\n",
       "    .dataframe tbody tr th {\n",
       "        vertical-align: top;\n",
       "    }\n",
       "\n",
       "    .dataframe thead th {\n",
       "        text-align: right;\n",
       "    }\n",
       "</style>\n",
       "<table border=\"1\" class=\"dataframe\">\n",
       "  <thead>\n",
       "    <tr style=\"text-align: right;\">\n",
       "      <th></th>\n",
       "      <th>age</th>\n",
       "      <th>workclass</th>\n",
       "      <th>fnlwgt</th>\n",
       "      <th>education</th>\n",
       "      <th>educational-num</th>\n",
       "      <th>marital-status</th>\n",
       "      <th>occupation</th>\n",
       "      <th>relationship</th>\n",
       "      <th>race</th>\n",
       "      <th>gender</th>\n",
       "      <th>capital-gain</th>\n",
       "      <th>capital-loss</th>\n",
       "      <th>hours-per-week</th>\n",
       "      <th>native-country</th>\n",
       "      <th>income</th>\n",
       "    </tr>\n",
       "  </thead>\n",
       "  <tbody>\n",
       "    <tr>\n",
       "      <th>9</th>\n",
       "      <td>24</td>\n",
       "      <td>Private</td>\n",
       "      <td>369667</td>\n",
       "      <td>Some-college</td>\n",
       "      <td>10</td>\n",
       "      <td>Never-married</td>\n",
       "      <td>Other-service</td>\n",
       "      <td>Unmarried</td>\n",
       "      <td>White</td>\n",
       "      <td>Female</td>\n",
       "      <td>0</td>\n",
       "      <td>0</td>\n",
       "      <td>40</td>\n",
       "      <td>United-States</td>\n",
       "      <td>&lt;=50K</td>\n",
       "    </tr>\n",
       "    <tr>\n",
       "      <th>27</th>\n",
       "      <td>45</td>\n",
       "      <td>Self-emp-not-inc</td>\n",
       "      <td>432824</td>\n",
       "      <td>HS-grad</td>\n",
       "      <td>9</td>\n",
       "      <td>Married-civ-spouse</td>\n",
       "      <td>Craft-repair</td>\n",
       "      <td>Husband</td>\n",
       "      <td>White</td>\n",
       "      <td>Male</td>\n",
       "      <td>7298</td>\n",
       "      <td>0</td>\n",
       "      <td>90</td>\n",
       "      <td>United-States</td>\n",
       "      <td>&gt;50K</td>\n",
       "    </tr>\n",
       "    <tr>\n",
       "      <th>53</th>\n",
       "      <td>18</td>\n",
       "      <td>Private</td>\n",
       "      <td>54440</td>\n",
       "      <td>Some-college</td>\n",
       "      <td>10</td>\n",
       "      <td>Never-married</td>\n",
       "      <td>Other-service</td>\n",
       "      <td>Own-child</td>\n",
       "      <td>White</td>\n",
       "      <td>Male</td>\n",
       "      <td>0</td>\n",
       "      <td>0</td>\n",
       "      <td>20</td>\n",
       "      <td>United-States</td>\n",
       "      <td>&lt;=50K</td>\n",
       "    </tr>\n",
       "    <tr>\n",
       "      <th>867</th>\n",
       "      <td>24</td>\n",
       "      <td>Private</td>\n",
       "      <td>194630</td>\n",
       "      <td>Bachelors</td>\n",
       "      <td>13</td>\n",
       "      <td>Never-married</td>\n",
       "      <td>Prof-specialty</td>\n",
       "      <td>Not-in-family</td>\n",
       "      <td>White</td>\n",
       "      <td>Male</td>\n",
       "      <td>0</td>\n",
       "      <td>0</td>\n",
       "      <td>35</td>\n",
       "      <td>United-States</td>\n",
       "      <td>&lt;=50K</td>\n",
       "    </tr>\n",
       "    <tr>\n",
       "      <th>2528</th>\n",
       "      <td>48</td>\n",
       "      <td>Private</td>\n",
       "      <td>56071</td>\n",
       "      <td>Bachelors</td>\n",
       "      <td>13</td>\n",
       "      <td>Married-civ-spouse</td>\n",
       "      <td>Craft-repair</td>\n",
       "      <td>Husband</td>\n",
       "      <td>White</td>\n",
       "      <td>Male</td>\n",
       "      <td>0</td>\n",
       "      <td>0</td>\n",
       "      <td>40</td>\n",
       "      <td>United-States</td>\n",
       "      <td>&gt;50K</td>\n",
       "    </tr>\n",
       "    <tr>\n",
       "      <th>2687</th>\n",
       "      <td>41</td>\n",
       "      <td>Private</td>\n",
       "      <td>319271</td>\n",
       "      <td>Some-college</td>\n",
       "      <td>10</td>\n",
       "      <td>Married-civ-spouse</td>\n",
       "      <td>Sales</td>\n",
       "      <td>Husband</td>\n",
       "      <td>White</td>\n",
       "      <td>Male</td>\n",
       "      <td>0</td>\n",
       "      <td>0</td>\n",
       "      <td>50</td>\n",
       "      <td>United-States</td>\n",
       "      <td>&lt;=50K</td>\n",
       "    </tr>\n",
       "    <tr>\n",
       "      <th>2794</th>\n",
       "      <td>25</td>\n",
       "      <td>Private</td>\n",
       "      <td>199143</td>\n",
       "      <td>HS-grad</td>\n",
       "      <td>9</td>\n",
       "      <td>Divorced</td>\n",
       "      <td>Craft-repair</td>\n",
       "      <td>Own-child</td>\n",
       "      <td>White</td>\n",
       "      <td>Male</td>\n",
       "      <td>0</td>\n",
       "      <td>0</td>\n",
       "      <td>40</td>\n",
       "      <td>United-States</td>\n",
       "      <td>&lt;=50K</td>\n",
       "    </tr>\n",
       "    <tr>\n",
       "      <th>2884</th>\n",
       "      <td>22</td>\n",
       "      <td>Private</td>\n",
       "      <td>333838</td>\n",
       "      <td>HS-grad</td>\n",
       "      <td>9</td>\n",
       "      <td>Never-married</td>\n",
       "      <td>Adm-clerical</td>\n",
       "      <td>Not-in-family</td>\n",
       "      <td>White</td>\n",
       "      <td>Male</td>\n",
       "      <td>0</td>\n",
       "      <td>0</td>\n",
       "      <td>40</td>\n",
       "      <td>United-States</td>\n",
       "      <td>&lt;=50K</td>\n",
       "    </tr>\n",
       "    <tr>\n",
       "      <th>3076</th>\n",
       "      <td>44</td>\n",
       "      <td>Private</td>\n",
       "      <td>141131</td>\n",
       "      <td>12th</td>\n",
       "      <td>8</td>\n",
       "      <td>Divorced</td>\n",
       "      <td>Machine-op-inspct</td>\n",
       "      <td>Unmarried</td>\n",
       "      <td>Asian-Pac-Islander</td>\n",
       "      <td>Female</td>\n",
       "      <td>0</td>\n",
       "      <td>0</td>\n",
       "      <td>40</td>\n",
       "      <td>South</td>\n",
       "      <td>&lt;=50K</td>\n",
       "    </tr>\n",
       "  </tbody>\n",
       "</table>\n",
       "</div>"
      ],
      "text/plain": [
       "      age         workclass  fnlwgt     education  educational-num  \\\n",
       "9      24           Private  369667  Some-college               10   \n",
       "27     45  Self-emp-not-inc  432824       HS-grad                9   \n",
       "53     18           Private   54440  Some-college               10   \n",
       "867    24           Private  194630     Bachelors               13   \n",
       "2528   48           Private   56071     Bachelors               13   \n",
       "2687   41           Private  319271  Some-college               10   \n",
       "2794   25           Private  199143       HS-grad                9   \n",
       "2884   22           Private  333838       HS-grad                9   \n",
       "3076   44           Private  141131          12th                8   \n",
       "\n",
       "          marital-status         occupation   relationship  \\\n",
       "9          Never-married      Other-service      Unmarried   \n",
       "27    Married-civ-spouse       Craft-repair        Husband   \n",
       "53         Never-married      Other-service      Own-child   \n",
       "867        Never-married     Prof-specialty  Not-in-family   \n",
       "2528  Married-civ-spouse       Craft-repair        Husband   \n",
       "2687  Married-civ-spouse              Sales        Husband   \n",
       "2794            Divorced       Craft-repair      Own-child   \n",
       "2884       Never-married       Adm-clerical  Not-in-family   \n",
       "3076            Divorced  Machine-op-inspct      Unmarried   \n",
       "\n",
       "                    race  gender  capital-gain  capital-loss  hours-per-week  \\\n",
       "9                  White  Female             0             0              40   \n",
       "27                 White    Male          7298             0              90   \n",
       "53                 White    Male             0             0              20   \n",
       "867                White    Male             0             0              35   \n",
       "2528               White    Male             0             0              40   \n",
       "2687               White    Male             0             0              50   \n",
       "2794               White    Male             0             0              40   \n",
       "2884               White    Male             0             0              40   \n",
       "3076  Asian-Pac-Islander  Female             0             0              40   \n",
       "\n",
       "     native-country income  \n",
       "9     United-States  <=50K  \n",
       "27    United-States   >50K  \n",
       "53    United-States  <=50K  \n",
       "867   United-States  <=50K  \n",
       "2528  United-States   >50K  \n",
       "2687  United-States  <=50K  \n",
       "2794  United-States  <=50K  \n",
       "2884  United-States  <=50K  \n",
       "3076          South  <=50K  "
      ]
     },
     "execution_count": 18,
     "metadata": {},
     "output_type": "execute_result"
    }
   ],
   "source": [
    "df_uci_adult.loc[df_uci_adult.duplicated(keep=\"first\")]"
   ]
  },
  {
   "cell_type": "markdown",
   "id": "0d991824",
   "metadata": {
    "papermill": {
     "duration": 0.012565,
     "end_time": "2023-07-04T13:33:13.288722",
     "exception": false,
     "start_time": "2023-07-04T13:33:13.276157",
     "status": "completed"
    },
    "tags": []
   },
   "source": [
    "### Remove duplicate values in the dataset"
   ]
  },
  {
   "cell_type": "code",
   "execution_count": 19,
   "id": "2ead02d8",
   "metadata": {
    "execution": {
     "iopub.execute_input": "2023-07-04T13:33:13.316976Z",
     "iopub.status.busy": "2023-07-04T13:33:13.316601Z",
     "iopub.status.idle": "2023-07-04T13:33:13.328210Z",
     "shell.execute_reply": "2023-07-04T13:33:13.327250Z"
    },
    "papermill": {
     "duration": 0.028646,
     "end_time": "2023-07-04T13:33:13.330936",
     "exception": false,
     "start_time": "2023-07-04T13:33:13.302290",
     "status": "completed"
    },
    "scrolled": true,
    "tags": []
   },
   "outputs": [],
   "source": [
    "# removes duplicate rows based on all columns.default keep = 'first'\n",
    "df_uci_adult.drop_duplicates(inplace=True,keep = 'first')"
   ]
  },
  {
   "cell_type": "code",
   "execution_count": 20,
   "id": "c41b9dd8",
   "metadata": {
    "execution": {
     "iopub.execute_input": "2023-07-04T13:33:13.358675Z",
     "iopub.status.busy": "2023-07-04T13:33:13.357966Z",
     "iopub.status.idle": "2023-07-04T13:33:13.364105Z",
     "shell.execute_reply": "2023-07-04T13:33:13.362994Z"
    },
    "papermill": {
     "duration": 0.022804,
     "end_time": "2023-07-04T13:33:13.366515",
     "exception": false,
     "start_time": "2023-07-04T13:33:13.343711",
     "status": "completed"
    },
    "tags": []
   },
   "outputs": [
    {
     "data": {
      "text/plain": [
       "(3237, 15)"
      ]
     },
     "execution_count": 20,
     "metadata": {},
     "output_type": "execute_result"
    }
   ],
   "source": [
    "df_uci_adult.shape"
   ]
  },
  {
   "cell_type": "code",
   "execution_count": 21,
   "id": "f00a1bea",
   "metadata": {
    "execution": {
     "iopub.execute_input": "2023-07-04T13:33:13.395282Z",
     "iopub.status.busy": "2023-07-04T13:33:13.394473Z",
     "iopub.status.idle": "2023-07-04T13:33:13.400417Z",
     "shell.execute_reply": "2023-07-04T13:33:13.399630Z"
    },
    "papermill": {
     "duration": 0.023007,
     "end_time": "2023-07-04T13:33:13.402672",
     "exception": false,
     "start_time": "2023-07-04T13:33:13.379665",
     "status": "completed"
    },
    "tags": []
   },
   "outputs": [
    {
     "data": {
      "text/plain": [
       "9"
      ]
     },
     "execution_count": 21,
     "metadata": {},
     "output_type": "execute_result"
    }
   ],
   "source": [
    "3246-3237"
   ]
  },
  {
   "cell_type": "markdown",
   "id": "5a8a8614",
   "metadata": {
    "papermill": {
     "duration": 0.012726,
     "end_time": "2023-07-04T13:33:13.428213",
     "exception": false,
     "start_time": "2023-07-04T13:33:13.415487",
     "status": "completed"
    },
    "tags": []
   },
   "source": [
    "It will remove all duplicates values and will give a dataset with unique values."
   ]
  },
  {
   "cell_type": "code",
   "execution_count": null,
   "id": "eb56039a",
   "metadata": {
    "papermill": {
     "duration": 0.013447,
     "end_time": "2023-07-04T13:33:13.454653",
     "exception": false,
     "start_time": "2023-07-04T13:33:13.441206",
     "status": "completed"
    },
    "tags": []
   },
   "outputs": [],
   "source": []
  },
  {
   "cell_type": "code",
   "execution_count": null,
   "id": "891f516b",
   "metadata": {
    "papermill": {
     "duration": 0.013391,
     "end_time": "2023-07-04T13:33:13.480730",
     "exception": false,
     "start_time": "2023-07-04T13:33:13.467339",
     "status": "completed"
    },
    "tags": []
   },
   "outputs": [],
   "source": []
  }
 ],
 "metadata": {
  "kernelspec": {
   "display_name": "Python 3",
   "language": "python",
   "name": "python3"
  },
  "language_info": {
   "codemirror_mode": {
    "name": "ipython",
    "version": 3
   },
   "file_extension": ".py",
   "mimetype": "text/x-python",
   "name": "python",
   "nbconvert_exporter": "python",
   "pygments_lexer": "ipython3",
   "version": "3.10.10"
  },
  "papermill": {
   "default_parameters": {},
   "duration": 15.108557,
   "end_time": "2023-07-04T13:33:14.415950",
   "environment_variables": {},
   "exception": null,
   "input_path": "__notebook__.ipynb",
   "output_path": "__notebook__.ipynb",
   "parameters": {},
   "start_time": "2023-07-04T13:32:59.307393",
   "version": "2.4.0"
  }
 },
 "nbformat": 4,
 "nbformat_minor": 5
}
